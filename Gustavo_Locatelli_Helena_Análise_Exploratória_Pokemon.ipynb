{
  "nbformat": 4,
  "nbformat_minor": 0,
  "metadata": {
    "colab": {
      "name": "Gustavo Locatelli Helena - Análise Exploratória Pokemon.ipynb",
      "provenance": [],
      "collapsed_sections": [
        "MTAXvjQCM8S6",
        "Y-gOgmpc6eNz",
        "M3d0BGpA6miL",
        "9vALEict9MMs",
        "NGrUPeRbM6ZS",
        "SwSO7drje8ma",
        "ckM4j7pKh3XK",
        "5dcqxNCnedw5",
        "NkjvwjCOg2lR",
        "wFfh2lsmjWRw"
      ]
    },
    "kernelspec": {
      "name": "python3",
      "display_name": "Python 3"
    },
    "language_info": {
      "name": "python"
    }
  },
  "cells": [
    {
      "cell_type": "markdown",
      "source": [
        "# **[Trabalho] Análise Exploratória**"
      ],
      "metadata": {
        "id": "MTAXvjQCM8S6"
      }
    },
    {
      "cell_type": "markdown",
      "source": [
        "## Imports e read"
      ],
      "metadata": {
        "id": "Y-gOgmpc6eNz"
      }
    },
    {
      "cell_type": "code",
      "source": [
        "import pandas as pd\n",
        "import matplotlib.pyplot as plt\n",
        "import numpy as np\n",
        "import csv\n",
        "import string\n",
        "import re\n",
        "import seaborn as sns\n",
        "\n",
        "pokemon = pd.read_csv(\"/content/Gustavo Locatelli Helena - PokemonGo.csv\")"
      ],
      "metadata": {
        "id": "w0f7My0iJmZ-"
      },
      "execution_count": 13,
      "outputs": []
    },
    {
      "cell_type": "markdown",
      "source": [
        "## Análise por Nome dos Pokémons"
      ],
      "metadata": {
        "id": "M3d0BGpA6miL"
      }
    },
    {
      "cell_type": "code",
      "source": [
        "nome=[]\n",
        "nomes=pokemon['name']\n",
        "for i in nomes:\n",
        "  nome.append(i)\n",
        "nome_count={}.fromkeys(string.ascii_lowercase,0)\n",
        "for word in nome:\n",
        "  nome_count[word[0].lower()]+=1\n",
        "key_list=list(nome_count.keys())\n",
        "val_list=list(nome_count.values())\n",
        "plt.figure(figsize=(20, 10))\n",
        "plt.bar(key_list, val_list, color='m');\n",
        "plt.ylabel('Número de Pokémons')\n",
        "plt.xlabel('Letras do Alfabeto')\n",
        "plt.title('Número de Pokémons por letras do alfabeto');"
      ],
      "metadata": {
        "id": "w4RvAYfJHeyF",
        "colab": {
          "base_uri": "https://localhost:8080/",
          "height": 459
        },
        "outputId": "c967cbf5-57bd-4b8b-bcc7-11db54152735"
      },
      "execution_count": 14,
      "outputs": [
        {
          "output_type": "display_data",
          "data": {
            "text/plain": [
              "<Figure size 1440x720 with 1 Axes>"
            ],
            "image/png": "[encoded data removed]"
          },
          "metadata": {
            "needs_background": "light"
          }
        }
      ]
    },
    {
      "cell_type": "code",
      "source": [
        "maior=max(val_list)\n",
        "maiorletra=val_list.index(maior)\n",
        "menor=min(val_list)\n",
        "menorletra=val_list.index(menor)\n",
        "print('A letra com mais Pokémons é {}, com {} Pokémons com essa inicial.'.format(key_list[maiorletra], maior))\n",
        "print('A letra com menos Pokémons é {}, com {} Pokémons com essa inicial.'.format(key_list[menorletra], menor))"
      ],
      "metadata": {
        "colab": {
          "base_uri": "https://localhost:8080/"
        },
        "id": "Wh5HJZpV8T-u",
        "outputId": "4590b2c1-937d-4445-f744-db55ba92b0fd"
      },
      "execution_count": 15,
      "outputs": [
        {
          "output_type": "stream",
          "name": "stdout",
          "text": [
            "A letra com mais Pokémons é s, com 111 Pokémons com essa inicial.\n",
            "A letra com menos Pokémons é x, com 3 Pokémons com essa inicial.\n"
          ]
        }
      ]
    },
    {
      "cell_type": "markdown",
      "source": [
        "## Pokémons que sofrem mais dano por tipo de ataque"
      ],
      "metadata": {
        "id": "9vALEict9MMs"
      }
    },
    {
      "cell_type": "code",
      "source": [
        "against_bug=pokemon['against_bug']\n",
        "max_bug=against_bug[against_bug==against_bug.max()]\n",
        "ind=[]\n",
        "for i in range(len(max_bug)):\n",
        "  ind.append(max_bug.index[i])\n",
        "nomes_bug=[]\n",
        "for i in ind:\n",
        "  nomes_bug.append(nomes[i])\n",
        "print('Os Pokémons que sofrem mais dano por ataques do tipo inseto são: {}'.format(nomes_bug))"
      ],
      "metadata": {
        "colab": {
          "base_uri": "https://localhost:8080/"
        },
        "id": "2yE3xSGI-h0D",
        "outputId": "5794c9ed-4578-462d-f3f5-738cae8e2c07"
      },
      "execution_count": 16,
      "outputs": [
        {
          "output_type": "stream",
          "name": "stdout",
          "text": [
            "Os Pokémons que sofrem mais dano por ataques do tipo inseto são: ['Exeggcute', 'Exeggutor', 'Celebi', 'Nuzleaf', 'Shiftry', 'Cacturne', 'Inkay', 'Malamar']\n"
          ]
        }
      ]
    },
    {
      "cell_type": "code",
      "source": [
        "against_dark=pokemon['against_dark']\n",
        "max_dark=against_dark[against_dark==against_dark.max()]\n",
        "ind=[]\n",
        "for i in range(len(max_dark)):\n",
        "  ind.append(max_dark.index[i])\n",
        "nomes_dark=[]\n",
        "for i in ind:\n",
        "  nomes_dark.append(nomes[i])\n",
        "print('Os Pokémons que sofrem mais dano por ataques do tipo dark são: {}'.format(nomes_dark))"
      ],
      "metadata": {
        "colab": {
          "base_uri": "https://localhost:8080/"
        },
        "id": "Y1aU6jURJFBM",
        "outputId": "483c6cdf-6e86-4b4f-cc1a-c789bd2d0efb"
      },
      "execution_count": 17,
      "outputs": [
        {
          "output_type": "stream",
          "name": "stdout",
          "text": [
            "Os Pokémons que sofrem mais dano por ataques do tipo dark são: ['Hoopa', 'Lunala']\n"
          ]
        }
      ]
    },
    {
      "cell_type": "code",
      "source": [
        "against_dragon=pokemon['against_dragon']\n",
        "max_dragon=against_dragon[against_dragon==against_dragon.max()]\n",
        "ind=[]\n",
        "for i in range(len(max_dragon)):\n",
        "  ind.append(max_dragon.index[i])\n",
        "nomes_dragon=[]\n",
        "for i in ind:\n",
        "  nomes_dragon.append(nomes[i])\n",
        "print('Os Pokémons que sofrem mais dano por ataques do tipo dragão são: {}'.format(nomes_dragon))"
      ],
      "metadata": {
        "colab": {
          "base_uri": "https://localhost:8080/"
        },
        "id": "u3ADuh_KJXC7",
        "outputId": "9cb58456-66f3-4cf0-d9e9-34d5ba7c884e"
      },
      "execution_count": 18,
      "outputs": [
        {
          "output_type": "stream",
          "name": "stdout",
          "text": [
            "Os Pokémons que sofrem mais dano por ataques do tipo dragão são: ['Dratini', 'Dragonair', 'Dragonite', 'Kingdra', 'Vibrava', 'Flygon', 'Altaria', 'Bagon', 'Shelgon', 'Salamence', 'Latias', 'Latios', 'Rayquaza', 'Gible', 'Gabite', 'Garchomp', 'Palkia', 'Giratina', 'Axew', 'Fraxure', 'Haxorus', 'Druddigon', 'Deino', 'Zweilous', 'Hydreigon', 'Reshiram', 'Zekrom', 'Kyurem', 'Dragalge', 'Tyrunt', 'Tyrantrum', 'Goomy', 'Sliggoo', 'Goodra', 'Noibat', 'Noivern', 'Zygarde', 'Turtonator', 'Drampa', 'Jangmo-o', 'Hakamo-o', 'Kommo-o', 'Guzzlord']\n"
          ]
        }
      ]
    },
    {
      "cell_type": "code",
      "source": [
        "against_electric=pokemon['against_electric']\n",
        "max_electric=against_electric[against_electric==against_electric.max()]\n",
        "ind=[]\n",
        "for i in range(len(max_electric)):\n",
        "  ind.append(max_electric.index[i])\n",
        "nomes_electric=[]\n",
        "for i in ind:\n",
        "  nomes_electric.append(nomes[i])\n",
        "print('Os Pokémons que sofrem mais dano por ataques do tipo elétrico são: {}'.format(nomes_electric))"
      ],
      "metadata": {
        "colab": {
          "base_uri": "https://localhost:8080/"
        },
        "id": "AC_HYjwHJfpT",
        "outputId": "be95bc4d-6091-4fb0-e651-6a4ee3f8ec8c"
      },
      "execution_count": 19,
      "outputs": [
        {
          "output_type": "stream",
          "name": "stdout",
          "text": [
            "Os Pokémons que sofrem mais dano por ataques do tipo elétrico são: ['Gyarados', 'Mantine', 'Wingull', 'Pelipper', 'Mantyke', 'Ducklett', 'Swanna']\n"
          ]
        }
      ]
    },
    {
      "cell_type": "code",
      "source": [
        "against_fairy=pokemon['against_fairy']\n",
        "max_fairy=against_fairy[against_fairy==against_fairy.max()]\n",
        "ind=[]\n",
        "for i in range(len(max_fairy)):\n",
        "  ind.append(max_fairy.index[i])\n",
        "nomes_fairy=[]\n",
        "for i in ind:\n",
        "  nomes_fairy.append(nomes[i])\n",
        "print('Os Pokémons que sofrem mais dano por ataques do tipo fada são: {}'.format(nomes_fairy))"
      ],
      "metadata": {
        "colab": {
          "base_uri": "https://localhost:8080/"
        },
        "id": "sHZCaMDrJtlL",
        "outputId": "9d58ba2b-255f-49db-b542-f6c72752b741"
      },
      "execution_count": 20,
      "outputs": [
        {
          "output_type": "stream",
          "name": "stdout",
          "text": [
            "Os Pokémons que sofrem mais dano por ataques do tipo fada são: ['Scraggy', 'Scrafty', 'Deino', 'Zweilous', 'Hydreigon', 'Pangoro', 'Hakamo-o', 'Kommo-o', 'Guzzlord']\n"
          ]
        }
      ]
    },
    {
      "cell_type": "code",
      "source": [
        "against_fight=pokemon['against_fight']\n",
        "max_fight=against_fight[against_fight==against_fight.max()]\n",
        "ind=[]\n",
        "for i in range(len(max_fight)):\n",
        "  ind.append(max_fight.index[i])\n",
        "nomes_fight=[]\n",
        "for i in ind:\n",
        "  nomes_fight.append(nomes[i])\n",
        "print('Os Pokémons que sofrem mais dano por ataques do tipo lutador são: {}'.format(nomes_fight))"
      ],
      "metadata": {
        "colab": {
          "base_uri": "https://localhost:8080/"
        },
        "id": "25JIljpkKAhD",
        "outputId": "09298c67-3456-4ded-ee43-2f6516c22723"
      },
      "execution_count": 21,
      "outputs": [
        {
          "output_type": "stream",
          "name": "stdout",
          "text": [
            "Os Pokémons que sofrem mais dano por ataques do tipo lutador são: ['Sneasel', 'Tyranitar', 'Aron', 'Lairon', 'Aggron', 'Shieldon', 'Bastiodon', 'Weavile', 'Probopass', 'Pawniard', 'Bisharp', 'Amaura', 'Aurorus']\n"
          ]
        }
      ]
    },
    {
      "cell_type": "code",
      "source": [
        "against_fire=pokemon['against_fire']\n",
        "max_fire=against_fire[against_fire==against_fire.max()]\n",
        "ind=[]\n",
        "for i in range(len(max_fire)):\n",
        "  ind.append(max_fire.index[i])\n",
        "nomes_fire=[]\n",
        "for i in ind:\n",
        "  nomes_fire.append(nomes[i])\n",
        "print('Os Pokémons que sofrem mais dano por ataques do tipo fogo são: {}'.format(nomes_fire))"
      ],
      "metadata": {
        "colab": {
          "base_uri": "https://localhost:8080/"
        },
        "id": "bIJE9mp1KMQr",
        "outputId": "5cf14c59-270c-486c-9a33-5ce57192eb9f"
      },
      "execution_count": 22,
      "outputs": [
        {
          "output_type": "stream",
          "name": "stdout",
          "text": [
            "Os Pokémons que sofrem mais dano por ataques do tipo fogo são: ['Paras', 'Parasect', 'Forretress', 'Scizor', 'Wormadam', 'Snover', 'Abomasnow', 'Sewaddle', 'Swadloon', 'Leavanny', 'Escavalier', 'Ferroseed', 'Ferrothorn', 'Durant', 'Genesect', 'Kartana']\n"
          ]
        }
      ]
    },
    {
      "cell_type": "code",
      "source": [
        "against_flying=pokemon['against_flying']\n",
        "max_flying=against_flying[against_flying==against_flying.max()]\n",
        "ind=[]\n",
        "for i in range(len(max_flying)):\n",
        "  ind.append(max_flying.index[i])\n",
        "nomes_flying=[]\n",
        "for i in ind:\n",
        "  nomes_flying.append(nomes[i])\n",
        "print('Os Pokémons que sofrem mais dano por ataques do tipo voador são: {}'.format(nomes_flying))"
      ],
      "metadata": {
        "colab": {
          "base_uri": "https://localhost:8080/"
        },
        "id": "Ub60kx5iKMJi",
        "outputId": "ba3759d1-152f-4a30-e286-3deb21653456"
      },
      "execution_count": 23,
      "outputs": [
        {
          "output_type": "stream",
          "name": "stdout",
          "text": [
            "Os Pokémons que sofrem mais dano por ataques do tipo voador são: ['Paras', 'Parasect', 'Heracross', 'Breloom', 'Wormadam', 'Sewaddle', 'Swadloon', 'Leavanny', 'Virizion', 'Chesnaught', 'Buzzwole', 'Pheromosa']\n"
          ]
        }
      ]
    },
    {
      "cell_type": "code",
      "source": [
        "against_ghost=pokemon['against_ghost']\n",
        "max_ghost=against_ghost[against_ghost==against_ghost.max()]\n",
        "ind=[]\n",
        "for i in range(len(max_ghost)):\n",
        "  ind.append(max_ghost.index[i])\n",
        "nomes_ghost=[]\n",
        "for i in ind:\n",
        "  nomes_ghost.append(nomes[i])\n",
        "print('Os Pokémons que sofrem mais dano por ataques do tipo fantasma são: {}'.format(nomes_ghost))"
      ],
      "metadata": {
        "colab": {
          "base_uri": "https://localhost:8080/"
        },
        "id": "xsGIgBfgKxBP",
        "outputId": "313eae50-7b57-48d6-aba7-295409ec3688"
      },
      "execution_count": 24,
      "outputs": [
        {
          "output_type": "stream",
          "name": "stdout",
          "text": [
            "Os Pokémons que sofrem mais dano por ataques do tipo fantasma são: ['Hoopa', 'Lunala']\n"
          ]
        }
      ]
    },
    {
      "cell_type": "code",
      "source": [
        "against_grass=pokemon['against_grass']\n",
        "max_grass=against_grass[against_grass==against_grass.max()]\n",
        "ind=[]\n",
        "for i in range(len(max_grass)):\n",
        "  ind.append(max_grass.index[i])\n",
        "nomes_grass=[]\n",
        "for i in ind:\n",
        "  nomes_grass.append(nomes[i])\n",
        "print('Os Pokémons que sofrem mais dano por ataques do tipo grama são: {}'.format(nomes_grass))"
      ],
      "metadata": {
        "colab": {
          "base_uri": "https://localhost:8080/"
        },
        "id": "Lp9iaJsVK6Sy",
        "outputId": "5dded5fd-14bf-4fe2-d922-c4a2aff0698b"
      },
      "execution_count": 25,
      "outputs": [
        {
          "output_type": "stream",
          "name": "stdout",
          "text": [
            "Os Pokémons que sofrem mais dano por ataques do tipo grama são: ['Geodude', 'Graveler', 'Golem', 'Onix', 'Rhyhorn', 'Rhydon', 'Omanyte', 'Omastar', 'Kabuto', 'Kabutops', 'Wooper', 'Quagsire', 'Corsola', 'Larvitar', 'Pupitar', 'Marshtomp', 'Swampert', 'Barboach', 'Whiscash', 'Relicanth', 'Gastrodon', 'Rhyperior', 'Palpitoad', 'Seismitoad', 'Tirtouga', 'Carracosta', 'Binacle', 'Barbaracle']\n"
          ]
        }
      ]
    },
    {
      "cell_type": "code",
      "source": [
        "against_ground=pokemon['against_ground']\n",
        "max_ground=against_ground[against_ground==against_ground.max()]\n",
        "ind=[]\n",
        "for i in range(len(max_ground)):\n",
        "  ind.append(max_ground.index[i])\n",
        "nomes_ground=[]\n",
        "for i in ind:\n",
        "  nomes_ground.append(nomes[i])\n",
        "print('Os Pokémons que sofrem mais dano por ataques do tipo ground são: {}'.format(nomes_ground))"
      ],
      "metadata": {
        "colab": {
          "base_uri": "https://localhost:8080/"
        },
        "id": "tn7190-ULEhT",
        "outputId": "85bdfbf2-97d2-4e70-c2c0-466413e42e89"
      },
      "execution_count": 26,
      "outputs": [
        {
          "output_type": "stream",
          "name": "stdout",
          "text": [
            "Os Pokémons que sofrem mais dano por ataques do tipo ground são: ['Magnemite', 'Magneton', 'Magcargo', 'Aron', 'Lairon', 'Aggron', 'Shieldon', 'Bastiodon', 'Magnezone', 'Probopass', 'Heatran', 'Salandit', 'Salazzle', 'Togedemaru', 'Nihilego']\n"
          ]
        }
      ]
    },
    {
      "cell_type": "code",
      "source": [
        "against_ice=pokemon['against_ice']\n",
        "max_ice=against_ice[against_ice==against_ice.max()]\n",
        "ind=[]\n",
        "for i in range(len(max_ice)):\n",
        "  ind.append(max_ice.index[i])\n",
        "nomes_ice=[]\n",
        "for i in ind:\n",
        "  nomes_ice.append(nomes[i])\n",
        "print('Os Pokémons que sofrem mais dano por ataques do tipo gelo são: {}'.format(nomes_ice))"
      ],
      "metadata": {
        "colab": {
          "base_uri": "https://localhost:8080/"
        },
        "id": "uip3zhfgLOYT",
        "outputId": "3e94fa3b-fba6-4ef6-e788-d92af7044891"
      },
      "execution_count": 27,
      "outputs": [
        {
          "output_type": "stream",
          "name": "stdout",
          "text": [
            "Os Pokémons que sofrem mais dano por ataques do tipo gelo são: ['Dragonite', 'Hoppip', 'Skiploom', 'Jumpluff', 'Gligar', 'Vibrava', 'Flygon', 'Altaria', 'Tropius', 'Salamence', 'Rayquaza', 'Torterra', 'Gible', 'Gabite', 'Garchomp', 'Gliscor', 'Landorus', 'Noibat', 'Noivern', 'Zygarde', 'Rowlet', 'Dartrix']\n"
          ]
        }
      ]
    },
    {
      "cell_type": "code",
      "source": [
        "against_normal=pokemon['against_normal']\n",
        "max_normal=against_normal[against_normal==against_normal.max()]\n",
        "ind=[]\n",
        "for i in range(len(max_normal)):\n",
        "  ind.append(max_normal.index[i])\n",
        "nomes_normal=[]\n",
        "for i in ind:\n",
        "  nomes_normal.append(nomes[i])\n",
        "print('Os Pokémons que sofrem mais dano por ataques do tipo normal são: {}'.format(nomes_normal))"
      ],
      "metadata": {
        "colab": {
          "base_uri": "https://localhost:8080/"
        },
        "id": "UGFu_LtjLXUq",
        "outputId": "a7654c5a-52ab-46d6-f8bc-ba0ff50c9556"
      },
      "execution_count": 28,
      "outputs": [
        {
          "output_type": "stream",
          "name": "stdout",
          "text": [
            "Os Pokémons que sofrem mais dano por ataques do tipo normal são: ['Bulbasaur', 'Ivysaur', 'Venusaur', 'Charmander', 'Charmeleon', 'Charizard', 'Squirtle', 'Wartortle', 'Blastoise', 'Caterpie', 'Metapod', 'Butterfree', 'Weedle', 'Kakuna', 'Beedrill', 'Pidgey', 'Pidgeotto', 'Pidgeot', 'Rattata', 'Raticate', 'Spearow', 'Fearow', 'Ekans', 'Arbok', 'Pikachu', 'Raichu', 'Sandshrew', 'Sandslash', 'Nidoran♀', 'Nidorina', 'Nidoqueen', 'Nidoran♂', 'Nidorino', 'Nidoking', 'Clefairy', 'Clefable', 'Vulpix', 'Ninetales', 'Jigglypuff', 'Wigglytuff', 'Zubat', 'Golbat', 'Oddish', 'Gloom', 'Vileplume', 'Paras', 'Parasect', 'Venonat', 'Venomoth', 'Diglett', 'Dugtrio', 'Meowth', 'Persian', 'Psyduck', 'Golduck', 'Mankey', 'Primeape', 'Growlithe', 'Arcanine', 'Poliwag', 'Poliwhirl', 'Poliwrath', 'Abra', 'Kadabra', 'Alakazam', 'Machop', 'Machoke', 'Machamp', 'Bellsprout', 'Weepinbell', 'Victreebel', 'Tentacool', 'Tentacruel', 'Ponyta', 'Rapidash', 'Slowpoke', 'Slowbro', \"Farfetch'd\", 'Doduo', 'Dodrio', 'Seel', 'Dewgong', 'Grimer', 'Muk', 'Shellder', 'Cloyster', 'Drowzee', 'Hypno', 'Krabby', 'Kingler', 'Voltorb', 'Electrode', 'Exeggcute', 'Exeggutor', 'Cubone', 'Marowak', 'Hitmonlee', 'Hitmonchan', 'Lickitung', 'Koffing', 'Weezing', 'Chansey', 'Tangela', 'Kangaskhan', 'Horsea', 'Seadra', 'Goldeen', 'Seaking', 'Staryu', 'Starmie', 'Mr. Mime', 'Scyther', 'Jynx', 'Electabuzz', 'Magmar', 'Pinsir', 'Tauros', 'Magikarp', 'Gyarados', 'Lapras', 'Ditto', 'Eevee', 'Vaporeon', 'Jolteon', 'Flareon', 'Porygon', 'Snorlax', 'Articuno', 'Zapdos', 'Moltres', 'Dratini', 'Dragonair', 'Dragonite', 'Mewtwo', 'Mew', 'Chikorita', 'Bayleef', 'Meganium', 'Cyndaquil', 'Quilava', 'Typhlosion', 'Totodile', 'Croconaw', 'Feraligatr', 'Sentret', 'Furret', 'Hoothoot', 'Noctowl', 'Ledyba', 'Ledian', 'Spinarak', 'Ariados', 'Crobat', 'Chinchou', 'Lanturn', 'Pichu', 'Cleffa', 'Igglybuff', 'Togepi', 'Togetic', 'Natu', 'Xatu', 'Mareep', 'Flaaffy', 'Ampharos', 'Bellossom', 'Marill', 'Azumarill', 'Politoed', 'Hoppip', 'Skiploom', 'Jumpluff', 'Aipom', 'Sunkern', 'Sunflora', 'Yanma', 'Wooper', 'Quagsire', 'Espeon', 'Umbreon', 'Murkrow', 'Slowking', 'Unown', 'Wobbuffet', 'Girafarig', 'Pineco', 'Dunsparce', 'Gligar', 'Snubbull', 'Granbull', 'Qwilfish', 'Heracross', 'Sneasel', 'Teddiursa', 'Ursaring', 'Slugma', 'Swinub', 'Piloswine', 'Remoraid', 'Octillery', 'Delibird', 'Mantine', 'Houndour', 'Houndoom', 'Kingdra', 'Phanpy', 'Donphan', 'Porygon2', 'Stantler', 'Smeargle', 'Tyrogue', 'Hitmontop', 'Smoochum', 'Elekid', 'Magby', 'Miltank', 'Blissey', 'Raikou', 'Entei', 'Suicune', 'Lugia', 'Ho-Oh', 'Celebi', 'Treecko', 'Grovyle', 'Sceptile', 'Torchic', 'Combusken', 'Blaziken', 'Mudkip', 'Marshtomp', 'Swampert', 'Poochyena', 'Mightyena', 'Zigzagoon', 'Linoone', 'Wurmple', 'Silcoon', 'Beautifly', 'Cascoon', 'Dustox', 'Lotad', 'Lombre', 'Ludicolo', 'Seedot', 'Nuzleaf', 'Shiftry', 'Taillow', 'Swellow', 'Wingull', 'Pelipper', 'Ralts', 'Kirlia', 'Gardevoir', 'Surskit', 'Masquerain', 'Shroomish', 'Breloom', 'Slakoth', 'Vigoroth', 'Slaking', 'Nincada', 'Ninjask', 'Whismur', 'Loudred', 'Exploud', 'Makuhita', 'Hariyama', 'Azurill', 'Skitty', 'Delcatty', 'Meditite', 'Medicham', 'Electrike', 'Manectric', 'Plusle', 'Minun', 'Volbeat', 'Illumise', 'Roselia', 'Gulpin', 'Swalot', 'Carvanha', 'Sharpedo', 'Wailmer', 'Wailord', 'Numel', 'Camerupt', 'Torkoal', 'Spoink', 'Grumpig', 'Spinda', 'Trapinch', 'Vibrava', 'Flygon', 'Cacnea', 'Cacturne', 'Swablu', 'Altaria', 'Zangoose', 'Seviper', 'Barboach', 'Whiscash', 'Corphish', 'Crawdaunt', 'Baltoy', 'Claydol', 'Feebas', 'Milotic', 'Castform', 'Kecleon', 'Tropius', 'Chimecho', 'Absol', 'Wynaut', 'Snorunt', 'Glalie', 'Spheal', 'Sealeo', 'Walrein', 'Clamperl', 'Huntail', 'Gorebyss', 'Luvdisc', 'Bagon', 'Shelgon', 'Salamence', 'Regice', 'Latias', 'Latios', 'Kyogre', 'Groudon', 'Rayquaza', 'Deoxys', 'Turtwig', 'Grotle', 'Torterra', 'Chimchar', 'Monferno', 'Infernape', 'Piplup', 'Prinplup', 'Starly', 'Staravia', 'Staraptor', 'Bidoof', 'Bibarel', 'Kricketot', 'Kricketune', 'Shinx', 'Luxio', 'Luxray', 'Budew', 'Roserade', 'Burmy', 'Wormadam', 'Mothim', 'Combee', 'Vespiquen', 'Pachirisu', 'Buizel', 'Floatzel', 'Cherubi', 'Cherrim', 'Shellos', 'Gastrodon', 'Ambipom', 'Buneary', 'Lopunny', 'Honchkrow', 'Glameow', 'Purugly', 'Chingling', 'Stunky', 'Skuntank', 'Mime Jr.', 'Happiny', 'Chatot', 'Gible', 'Gabite', 'Garchomp', 'Munchlax', 'Riolu', 'Hippopotas', 'Hippowdon', 'Skorupi', 'Drapion', 'Croagunk', 'Toxicroak', 'Carnivine', 'Finneon', 'Lumineon', 'Mantyke', 'Snover', 'Abomasnow', 'Weavile', 'Lickilicky', 'Tangrowth', 'Electivire', 'Magmortar', 'Togekiss', 'Yanmega', 'Leafeon', 'Glaceon', 'Gliscor', 'Mamoswine', 'Porygon-Z', 'Gallade', 'Uxie', 'Mesprit', 'Azelf', 'Palkia', 'Regigigas', 'Cresselia', 'Phione', 'Manaphy', 'Darkrai', 'Shaymin', 'Arceus', 'Victini', 'Snivy', 'Servine', 'Serperior', 'Tepig', 'Pignite', 'Emboar', 'Oshawott', 'Dewott', 'Samurott', 'Patrat', 'Watchog', 'Lillipup', 'Herdier', 'Stoutland', 'Purrloin', 'Liepard', 'Pansage', 'Simisage', 'Pansear', 'Simisear', 'Panpour', 'Simipour', 'Munna', 'Musharna', 'Pidove', 'Tranquill', 'Unfezant', 'Blitzle', 'Zebstrika', 'Woobat', 'Swoobat', 'Drilbur', 'Audino', 'Timburr', 'Gurdurr', 'Conkeldurr', 'Tympole', 'Palpitoad', 'Seismitoad', 'Throh', 'Sawk', 'Sewaddle', 'Swadloon', 'Leavanny', 'Venipede', 'Whirlipede', 'Scolipede', 'Cottonee', 'Whimsicott', 'Petilil', 'Lilligant', 'Basculin', 'Sandile', 'Krokorok', 'Krookodile', 'Darumaka', 'Darmanitan', 'Maractus', 'Scraggy', 'Scrafty', 'Sigilyph', 'Trubbish', 'Garbodor', 'Zorua', 'Zoroark', 'Minccino', 'Cinccino', 'Gothita', 'Gothorita', 'Gothitelle', 'Solosis', 'Duosion', 'Reuniclus', 'Ducklett', 'Swanna', 'Vanillite', 'Vanillish', 'Vanilluxe', 'Deerling', 'Sawsbuck', 'Emolga', 'Karrablast', 'Foongus', 'Amoonguss', 'Alomomola', 'Joltik', 'Galvantula', 'Tynamo', 'Eelektrik', 'Eelektross', 'Elgyem', 'Beheeyem', 'Axew', 'Fraxure', 'Haxorus', 'Cubchoo', 'Beartic', 'Cryogonal', 'Shelmet', 'Accelgor', 'Stunfisk', 'Mienfoo', 'Mienshao', 'Druddigon', 'Bouffalant', 'Rufflet', 'Braviary', 'Vullaby', 'Mandibuzz', 'Heatmor', 'Deino', 'Zweilous', 'Hydreigon', 'Larvesta', 'Volcarona', 'Virizion', 'Tornadus', 'Thundurus', 'Reshiram', 'Zekrom', 'Landorus', 'Kyurem', 'Keldeo', 'Meloetta', 'Chespin', 'Quilladin', 'Chesnaught', 'Fennekin', 'Braixen', 'Delphox', 'Froakie', 'Frogadier', 'Greninja', 'Bunnelby', 'Diggersby', 'Fletchling', 'Fletchinder', 'Talonflame', 'Scatterbug', 'Spewpa', 'Vivillon', 'Litleo', 'Pyroar', 'Flabébé', 'Floette', 'Florges', 'Skiddo', 'Gogoat', 'Pancham', 'Pangoro', 'Furfrou', 'Espurr', 'Meowstic', 'Spritzee', 'Aromatisse', 'Swirlix', 'Slurpuff', 'Inkay', 'Malamar', 'Skrelp', 'Dragalge', 'Clauncher', 'Clawitzer', 'Helioptile', 'Heliolisk', 'Sylveon', 'Hawlucha', 'Dedenne', 'Goomy', 'Sliggoo', 'Goodra', 'Bergmite', 'Avalugg', 'Noibat', 'Noivern', 'Xerneas', 'Yveltal', 'Zygarde', 'Volcanion', 'Rowlet', 'Dartrix', 'Litten', 'Torracat', 'Incineroar', 'Popplio', 'Brionne', 'Primarina', 'Pikipek', 'Trumbeak', 'Toucannon', 'Yungoos', 'Gumshoos', 'Grubbin', 'Charjabug', 'Vikavolt', 'Crabrawler', 'Crabominable', 'Oricorio', 'Cutiefly', 'Ribombee', 'Wishiwashi', 'Mareanie', 'Toxapex', 'Mudbray', 'Mudsdale', 'Dewpider', 'Araquanid', 'Fomantis', 'Lurantis', 'Morelull', 'Shiinotic', 'Salandit', 'Salazzle', 'Stufful', 'Bewear', 'Bounsweet', 'Steenee', 'Tsareena', 'Comfey', 'Oranguru', 'Passimian', 'Wimpod', 'Golisopod', 'Pyukumuku', 'Type: Null', 'Silvally', 'Komala', 'Turtonator', 'Bruxish', 'Drampa', 'Jangmo-o', 'Hakamo-o', 'Kommo-o', 'Tapu Koko', 'Tapu Lele', 'Tapu Bulu', 'Tapu Fini', 'Cosmog', 'Cosmoem', 'Buzzwole', 'Pheromosa', 'Xurkitree', 'Guzzlord', 'Necrozma']\n"
          ]
        }
      ]
    },
    {
      "cell_type": "code",
      "source": [
        "against_poison=pokemon['against_poison']\n",
        "max_poison=against_poison[against_poison==against_poison.max()]\n",
        "ind=[]\n",
        "for i in range(len(max_poison)):\n",
        "  ind.append(max_poison.index[i])\n",
        "nomes_poison=[]\n",
        "for i in ind:\n",
        "  nomes_poison.append(nomes[i])\n",
        "print('Os Pokémons que sofrem mais dano por ataques do tipo poison são: {}'.format(nomes_poison))"
      ],
      "metadata": {
        "colab": {
          "base_uri": "https://localhost:8080/"
        },
        "id": "fmRn6BZ0Lgw6",
        "outputId": "6849249f-74a3-4955-ec6e-19284c8ed8fa"
      },
      "execution_count": 29,
      "outputs": [
        {
          "output_type": "stream",
          "name": "stdout",
          "text": [
            "Os Pokémons que sofrem mais dano por ataques do tipo poison são: ['Cottonee', 'Whimsicott', 'Morelull', 'Shiinotic', 'Tapu Bulu']\n"
          ]
        }
      ]
    },
    {
      "cell_type": "code",
      "source": [
        "against_psychic=pokemon['against_psychic']\n",
        "max_psychic=against_psychic[against_psychic==against_psychic.max()]\n",
        "ind=[]\n",
        "for i in range(len(max_psychic)):\n",
        "  ind.append(max_psychic.index[i])\n",
        "nomes_psychic=[]\n",
        "for i in ind:\n",
        "  nomes_psychic.append(nomes[i])\n",
        "print('Os Pokémons que sofrem mais dano por ataques do tipo psíquico são: {}'.format(nomes_psychic))"
      ],
      "metadata": {
        "colab": {
          "base_uri": "https://localhost:8080/"
        },
        "id": "M1HNlSeeLtoa",
        "outputId": "efb96950-23bc-4a52-a3d6-09781acdecd3"
      },
      "execution_count": 30,
      "outputs": [
        {
          "output_type": "stream",
          "name": "stdout",
          "text": [
            "Os Pokémons que sofrem mais dano por ataques do tipo psíquico são: ['Croagunk', 'Toxicroak']\n"
          ]
        }
      ]
    },
    {
      "cell_type": "code",
      "source": [
        "against_rock=pokemon['against_rock']\n",
        "max_rock=against_rock[against_rock==against_rock.max()]\n",
        "ind=[]\n",
        "for i in range(len(max_rock)):\n",
        "  ind.append(max_rock.index[i])\n",
        "nomes_rock=[]\n",
        "for i in ind:\n",
        "  nomes_rock.append(nomes[i])\n",
        "print('Os Pokémons que sofrem mais dano por ataques do tipo pedra são: {}'.format(nomes_rock))"
      ],
      "metadata": {
        "colab": {
          "base_uri": "https://localhost:8080/"
        },
        "id": "apAEbxCXL4rz",
        "outputId": "12ffaa6c-0909-4f5c-c5a1-391b6327fc5c"
      },
      "execution_count": 31,
      "outputs": [
        {
          "output_type": "stream",
          "name": "stdout",
          "text": [
            "Os Pokémons que sofrem mais dano por ataques do tipo pedra são: ['Charizard', 'Butterfree', 'Scyther', 'Articuno', 'Moltres', 'Ledyba', 'Ledian', 'Yanma', 'Delibird', 'Ho-Oh', 'Beautifly', 'Masquerain', 'Ninjask', 'Mothim', 'Combee', 'Vespiquen', 'Yanmega', 'Larvesta', 'Volcarona', 'Fletchinder', 'Talonflame', 'Vivillon', 'Oricorio']\n"
          ]
        }
      ]
    },
    {
      "cell_type": "code",
      "source": [
        "against_steel=pokemon['against_steel']\n",
        "max_steel=against_steel[against_steel==against_steel.max()]\n",
        "ind=[]\n",
        "for i in range(len(max_steel)):\n",
        "  ind.append(max_steel.index[i])\n",
        "nomes_steel=[]\n",
        "for i in ind:\n",
        "  nomes_steel.append(nomes[i])\n",
        "print('Os Pokémons que sofrem mais dano por ataques do tipo steel são: {}'.format(nomes_steel))"
      ],
      "metadata": {
        "colab": {
          "base_uri": "https://localhost:8080/"
        },
        "id": "ijkzQJfQMCF6",
        "outputId": "9b82a7a6-4f6c-4406-eec2-15d122635b58"
      },
      "execution_count": 32,
      "outputs": [
        {
          "output_type": "stream",
          "name": "stdout",
          "text": [
            "Os Pokémons que sofrem mais dano por ataques do tipo steel são: ['Amaura', 'Aurorus', 'Carbink', 'Diancie']\n"
          ]
        }
      ]
    },
    {
      "cell_type": "code",
      "source": [
        "against_water=pokemon['against_water']\n",
        "max_water=against_water[against_water==against_water.max()]\n",
        "ind=[]\n",
        "for i in range(len(max_water)):\n",
        "  ind.append(max_water.index[i])\n",
        "nomes_water=[]\n",
        "for i in ind:\n",
        "  nomes_water.append(nomes[i])\n",
        "print('Os Pokémons que sofrem mais dano por ataques do tipo água são: {}'.format(nomes_water))"
      ],
      "metadata": {
        "colab": {
          "base_uri": "https://localhost:8080/"
        },
        "id": "hGXmdv9vMNFS",
        "outputId": "6529b1e3-74be-4afd-ad50-b1cda6f59cfc"
      },
      "execution_count": 33,
      "outputs": [
        {
          "output_type": "stream",
          "name": "stdout",
          "text": [
            "Os Pokémons que sofrem mais dano por ataques do tipo água são: ['Geodude', 'Graveler', 'Golem', 'Onix', 'Rhyhorn', 'Rhydon', 'Magcargo', 'Larvitar', 'Pupitar', 'Numel', 'Camerupt', 'Rhyperior']\n"
          ]
        }
      ]
    },
    {
      "cell_type": "markdown",
      "source": [
        "## Análise de pokemons lendários"
      ],
      "metadata": {
        "id": "NGrUPeRbM6ZS"
      }
    },
    {
      "cell_type": "code",
      "source": [
        "nomes=pokemon['name']\n",
        "lendario=pokemon['is_legendary']\n",
        "numero_pokedex=pokemon['pokedex_number']\n",
        "classificacao=pokemon['classfication']\n",
        " \n",
        "nomes_lendario=[]\n",
        "ind_lendario=[]\n",
        "\n",
        "classif_lendario=[]\n",
        "for i in range(len(nomes)): \n",
        "    if (lendario[i] == 1):\n",
        "      nomes_lendario.append(nomes[i])\n",
        "      ind_lendario.append(numero_pokedex[i])\n",
        "      classif_lendario.append(classificacao[i])\n",
        "\n",
        "print('Os Pokémons lendários são: {}'.format(nomes_lendario))\n",
        "print('\\nO número da Pokedex dos Pokémons lendários são respectivamente: {}'.format(ind_lendario))\n",
        "print('\\nAs classificações dos Pokémons lendários são respectivamente: {}'.format(classif_lendario))"
      ],
      "metadata": {
        "colab": {
          "base_uri": "https://localhost:8080/"
        },
        "id": "9tqMb3xRNlRK",
        "outputId": "c23e037a-a1a4-4c75-ca5d-0870e28b134c"
      },
      "execution_count": 34,
      "outputs": [
        {
          "output_type": "stream",
          "name": "stdout",
          "text": [
            "Os Pokémons lendários são: ['Articuno', 'Zapdos', 'Moltres', 'Mewtwo', 'Mew', 'Raikou', 'Entei', 'Suicune', 'Lugia', 'Ho-Oh', 'Celebi', 'Regirock', 'Regice', 'Registeel', 'Latias', 'Latios', 'Kyogre', 'Groudon', 'Rayquaza', 'Jirachi', 'Deoxys', 'Uxie', 'Mesprit', 'Azelf', 'Dialga', 'Palkia', 'Heatran', 'Regigigas', 'Giratina', 'Cresselia', 'Manaphy', 'Darkrai', 'Shaymin', 'Arceus', 'Victini', 'Cobalion', 'Terrakion', 'Virizion', 'Tornadus', 'Thundurus', 'Reshiram', 'Zekrom', 'Landorus', 'Kyurem', 'Keldeo', 'Meloetta', 'Genesect', 'Xerneas', 'Yveltal', 'Zygarde', 'Diancie', 'Hoopa', 'Volcanion', 'Tapu Koko', 'Tapu Lele', 'Tapu Bulu', 'Tapu Fini', 'Cosmog', 'Cosmoem', 'Solgaleo', 'Lunala', 'Nihilego', 'Buzzwole', 'Pheromosa', 'Xurkitree', 'Celesteela', 'Kartana', 'Guzzlord', 'Necrozma', 'Magearna']\n",
            "\n",
            "O número da Pokedex dos Pokémons lendários são respectivamente: [144, 145, 146, 150, 151, 243, 244, 245, 249, 250, 251, 377, 378, 379, 380, 381, 382, 383, 384, 385, 386, 480, 481, 482, 483, 484, 485, 486, 487, 488, 490, 491, 492, 493, 494, 638, 639, 640, 641, 642, 643, 644, 645, 646, 647, 648, 649, 716, 717, 718, 719, 720, 721, 785, 786, 787, 788, 789, 790, 791, 792, 793, 794, 795, 796, 797, 798, 799, 800, 801]\n",
            "\n",
            "As classificações dos Pokémons lendários são respectivamente: ['Freeze Pokémon', 'Electric Pokémon', 'Flame Pokémon', 'Genetic Pokémon', 'New Species Pokémon', 'Thunder Pokémon', 'Volcano Pokémon', 'Aurora Pokémon', 'Diving Pokémon', 'Rainbow Pokémon', 'Time Travel Pokémon', 'Rock Peak Pokémon', 'Iceberg Pokémon', 'Iron Pokémon', 'Eon Pokémon', 'Eon Pokémon', 'Sea Basin Pokémon', 'Continent Pokémon', 'Sky High Pokémon', 'Wish Pokémon', 'DNA Pokémon', 'Knowledge Pokémon', 'Emotion Pokémon', 'Willpower Pokémon', 'Temporal Pokémon', 'Spatial Pokémon', 'Lava Dome Pokémon', 'Colossal Pokémon', 'Renegade Pokémon', 'Lunar Pokémon', 'Seafaring Pokémon', 'Pitch-Black Pokémon', 'Gratitude Pokémon', 'Alpha Pokémon', 'Victory Pokémon', 'Iron Will Pokémon', 'Cavern Pokémon', 'Grassland Pokémon', 'Cyclone Pokémon', 'Bolt Strike Pokémon', 'Vast White Pokémon', 'Deep Black Pokémon', 'Abundance Pokémon', 'Boundary Pokémon', 'Colt Pokémon', 'Melody Pokémon', 'Paleozoic Pokémon', 'Life Pokémon', 'Destruction Pokémon', 'Order Pokémon', 'Jewel Pokémon', 'Mischief Pokémon (Confined)Djinn Pokémonn (Unbound)', 'Steam Pokémon', 'Land Spirit Pokémon', 'Land Spirit Pokémon', 'Land Spirit Pokémon', 'Land Spirit Pokémon', 'Nebula Pokémon', 'Protostar Pokémon', 'Sunne Pokémon', 'Moone Pokémon', 'Parasite Pokémon', 'Swollen Pokémon', 'Lissome Pokémon', 'Glowing Pokémon', 'Launch Pokémon', 'Drawn Sword Pokémon', 'Junkivore Pokémon', 'Prism Pokémon', 'Artificial Pokémon']\n"
          ]
        }
      ]
    },
    {
      "cell_type": "code",
      "source": [
        "plt.figure(figsize=(5, 5))\n",
        "plt.hist(lendario, color='m')\n",
        "plt.ylabel('Frequência de Pokémons')\n",
        "plt.xlabel('Normal (0) e Lendário (1)')\n",
        "plt.title('Histograma de frequência de Pokémons normais e Pokémons lendários');"
      ],
      "metadata": {
        "colab": {
          "base_uri": "https://localhost:8080/",
          "height": 350
        },
        "id": "bzZK6EfE8xtP",
        "outputId": "83dc8ef5-ebb3-442b-8119-627380b0a0ab"
      },
      "execution_count": 35,
      "outputs": [
        {
          "output_type": "display_data",
          "data": {
            "text/plain": [
              "<Figure size 360x360 with 1 Axes>"
            ],
            "image/png": "[encoded data removed]"
          },
          "metadata": {
            "needs_background": "light"
          }
        }
      ]
    },
    {
      "cell_type": "markdown",
      "source": [
        "## Análise do crescimento de experiência"
      ],
      "metadata": {
        "id": "SwSO7drje8ma"
      }
    },
    {
      "cell_type": "code",
      "source": [
        "experiencia=pokemon['experience_growth']\n",
        "maximoexp=experiencia[experiencia==experiencia.max()]\n",
        "ind=[]\n",
        "for i in range(len(maximoexp)):\n",
        "  ind.append(maximoexp.index[i])\n",
        "nomes_maxexperiencia=[]\n",
        "for i in ind:\n",
        "  nomes_maxexperiencia.append(nomes[i])\n",
        "print('Os Pokémosn com maior valor de crescimento de experiência {} são: {}'.format(experiencia.max(), nomes_maxexperiencia))\n",
        "\n",
        "minimoexp=experiencia[experiencia==experiencia.min()]\n",
        "ind=[]\n",
        "for i in range(len(minimoexp)):\n",
        "  ind.append(minimoexp.index[i])\n",
        "nomes_minexperiencia=[]\n",
        "for i in ind:\n",
        "  nomes_minexperiencia.append(nomes[i])\n",
        "print('Os Pokémosn com menor valor de crescimento de experiência {} são: {}'.format(experiencia.min(), nomes_minexperiencia))"
      ],
      "metadata": {
        "colab": {
          "base_uri": "https://localhost:8080/"
        },
        "id": "Q6oEoOC2fGFK",
        "outputId": "61fa81db-4131-41b1-ec13-8bfcdd586639"
      },
      "execution_count": 36,
      "outputs": [
        {
          "output_type": "stream",
          "name": "stdout",
          "text": [
            "Os Pokémosn com maior valor de crescimento de experiência 1640000 são: ['Shroomish', 'Breloom', 'Makuhita', 'Hariyama', 'Illumise', 'Gulpin', 'Swalot', 'Wailmer', 'Wailord', 'Seviper', 'Corphish', 'Crawdaunt', 'Drifloon', 'Drifblim']\n",
            "Os Pokémosn com menor valor de crescimento de experiência 600000 são: ['Nincada', 'Ninjask', 'Shedinja', 'Volbeat', 'Swablu', 'Altaria', 'Zangoose', 'Lileep', 'Cradily', 'Anorith', 'Armaldo', 'Feebas', 'Milotic', 'Clamperl', 'Huntail', 'Gorebyss', 'Cranidos', 'Rampardos', 'Shieldon', 'Bastiodon', 'Finneon', 'Lumineon']\n"
          ]
        }
      ]
    },
    {
      "cell_type": "code",
      "source": [
        "plt.figure(figsize=(5, 5))\n",
        "sns.violinplot(data=experiencia, color='m')\n",
        "plt.ylabel('Crescimento de Experiência')\n",
        "plt.xlabel('Densidade de Pokémons')\n",
        "plt.title('Gráfico de Violino para crescimento de experiência de Pokémons\\n');"
      ],
      "metadata": {
        "colab": {
          "base_uri": "https://localhost:8080/",
          "height": 365
        },
        "id": "xqnU1JyDgz0M",
        "outputId": "6cbc1a91-93a7-44d0-e242-e89cc747b85f"
      },
      "execution_count": 37,
      "outputs": [
        {
          "output_type": "display_data",
          "data": {
            "text/plain": [
              "<Figure size 360x360 with 1 Axes>"
            ],
            "image/png": "[encoded data removed]"
          },
          "metadata": {
            "needs_background": "light"
          }
        }
      ]
    },
    {
      "cell_type": "code",
      "source": [
        "plt.figure(figsize=(10, 5))\n",
        "plt.hist(experiencia, color='m')\n",
        "plt.ylabel('Frequência de Pokémons')\n",
        "plt.xlabel('Crescimento de experiência')\n",
        "plt.title('Histograma para crescimento de experiência de Pokémons');"
      ],
      "metadata": {
        "colab": {
          "base_uri": "https://localhost:8080/",
          "height": 350
        },
        "id": "WqT0Z4hos4JU",
        "outputId": "a301f0c9-7e26-4e14-9996-86af0de645cf"
      },
      "execution_count": 38,
      "outputs": [
        {
          "output_type": "display_data",
          "data": {
            "text/plain": [
              "<Figure size 720x360 with 1 Axes>"
            ],
            "image/png": "[encoded data removed]"
          },
          "metadata": {
            "needs_background": "light"
          }
        }
      ]
    },
    {
      "cell_type": "markdown",
      "source": [
        "## Classificação por tipo de Pokémon"
      ],
      "metadata": {
        "id": "ckM4j7pKh3XK"
      }
    },
    {
      "cell_type": "code",
      "source": [
        "tipo1=pokemon['type1']\n",
        "classific=[]\n",
        "for i in tipo1:\n",
        "  classific.append(i)\n",
        "classificacao={i:classific.count(i) for i in classific}\n",
        "\n",
        "plt.figure(figsize=(20, 10))\n",
        "plt.bar(classificacao.keys(), classificacao.values(), color='c')\n",
        "plt.title('Número de Pokémons por tipo')\n",
        "plt.ylabel('Números de Pokemóns')\n",
        "plt.xlabel('Tipo Primário')\n",
        "plt.show();"
      ],
      "metadata": {
        "colab": {
          "base_uri": "https://localhost:8080/",
          "height": 460
        },
        "id": "s94ttHV1h96J",
        "outputId": "165a20fc-a1b0-4ca3-d931-dc4e08b70fac"
      },
      "execution_count": 39,
      "outputs": [
        {
          "output_type": "display_data",
          "data": {
            "text/plain": [
              "<Figure size 1440x720 with 1 Axes>"
            ],
            "image/png": "[encoded data removed]"
          },
          "metadata": {
            "needs_background": "light"
          }
        }
      ]
    },
    {
      "cell_type": "markdown",
      "source": [
        "## Análise do ataque base dos Pokémons"
      ],
      "metadata": {
        "id": "5dcqxNCnedw5"
      }
    },
    {
      "cell_type": "code",
      "source": [
        "ataque=pokemon['attack']\n",
        "atk_max=ataque[ataque==ataque.max()]\n",
        "indmax=[]\n",
        "for i in range(len(atk_max)):\n",
        "  indmax.append(atk_max.index[i])\n",
        "nomes_max_atk=[]\n",
        "for i in indmax:\n",
        "  nomes_max_atk.append(nomes[i])\n",
        "\n",
        "atk_min=ataque[ataque==ataque.min()]\n",
        "indmin=[]\n",
        "for i in range(len(atk_min)):\n",
        "  indmin.append(atk_min.index[i])\n",
        "nomes_min_atk=[]\n",
        "for i in indmin:\n",
        "  nomes_min_atk.append(nomes[i])\n",
        "\n",
        "\n",
        "print('Os Pokémons que têm o maior ataque base são: {} com {} de ataque base'.format(nomes_max_atk,ataque.max()))\n",
        "print('Os Pokémons que têm o menor ataque base são: {} com {} de ataque base'.format(nomes_min_atk,ataque.min()))"
      ],
      "metadata": {
        "colab": {
          "base_uri": "https://localhost:8080/"
        },
        "id": "wBw7rhxreqsh",
        "outputId": "7a056e55-de56-4a3d-9ec9-1f61a244c71d"
      },
      "execution_count": 40,
      "outputs": [
        {
          "output_type": "stream",
          "name": "stdout",
          "text": [
            "Os Pokémons que têm o maior ataque base são: ['Heracross'] com 185 de ataque base\n",
            "Os Pokémons que têm o menor ataque base são: ['Chansey', 'Happiny'] com 5 de ataque base\n"
          ]
        }
      ]
    },
    {
      "cell_type": "code",
      "source": [
        "plt.figure(figsize=(5, 5))\n",
        "plt.hist(ataque, color='m')\n",
        "plt.ylabel('Frequência de Pokémons')\n",
        "plt.xlabel('Ataque Base')\n",
        "plt.title('Histograma de ataque base de Pokémons');"
      ],
      "metadata": {
        "colab": {
          "base_uri": "https://localhost:8080/",
          "height": 350
        },
        "id": "rTQRY_P4gHrx",
        "outputId": "90fa5c2d-5603-4da3-f628-80427d959832"
      },
      "execution_count": 41,
      "outputs": [
        {
          "output_type": "display_data",
          "data": {
            "text/plain": [
              "<Figure size 360x360 with 1 Axes>"
            ],
            "image/png": "[encoded data removed]"
          },
          "metadata": {
            "needs_background": "light"
          }
        }
      ]
    },
    {
      "cell_type": "code",
      "source": [
        "plt.figure(figsize=(5, 5))\n",
        "sns.violinplot(data=ataque, color='m')\n",
        "plt.ylabel('Ataque Base')\n",
        "plt.xlabel('Densidade de Pokémons')\n",
        "plt.title('Gráfico de Violino para ataque base de Pokémons');"
      ],
      "metadata": {
        "colab": {
          "base_uri": "https://localhost:8080/",
          "height": 350
        },
        "id": "FntX_LrcgYMm",
        "outputId": "d3536025-d88f-4b4c-cc98-6c4dbdcf2828"
      },
      "execution_count": 42,
      "outputs": [
        {
          "output_type": "display_data",
          "data": {
            "text/plain": [
              "<Figure size 360x360 with 1 Axes>"
            ],
            "image/png": "[encoded data removed]"
          },
          "metadata": {
            "needs_background": "light"
          }
        }
      ]
    },
    {
      "cell_type": "markdown",
      "source": [
        "## Análise da defesa base dos Pokémons"
      ],
      "metadata": {
        "id": "NkjvwjCOg2lR"
      }
    },
    {
      "cell_type": "code",
      "source": [
        "defesa=pokemon['defense']\n",
        "def_max=defesa[defesa==defesa.max()]\n",
        "indmax=[]\n",
        "for i in range(len(def_max)):\n",
        "  indmax.append(def_max.index[i])\n",
        "nomes_max_def=[]\n",
        "for i in indmax:\n",
        "  nomes_max_def.append(nomes[i])\n",
        "\n",
        "  def_min=defesa[defesa==defesa.min()]\n",
        "indmin=[]\n",
        "for i in range(len(def_min)):\n",
        "  indmin.append(def_min.index[i])\n",
        "nomes_min_def=[]\n",
        "for i in indmin:\n",
        "  nomes_min_def.append(nomes[i])\n",
        "\n",
        "\n",
        "print('Os Pokémons que têm a maior defesa base são: {} com {} de defesa base'.format(nomes_max_def,defesa.max()))\n",
        "print('Os Pokémosn que têm a menor defesa base são: {} com {} de defesa base'.format(nomes_min_def,defesa.min()))"
      ],
      "metadata": {
        "colab": {
          "base_uri": "https://localhost:8080/"
        },
        "id": "jg5TSs4Sg6SC",
        "outputId": "391eb74d-ae0b-441e-dad2-ace8cae377f1"
      },
      "execution_count": 43,
      "outputs": [
        {
          "output_type": "stream",
          "name": "stdout",
          "text": [
            "Os Pokémons que têm a maior defesa base são: ['Steelix', 'Shuckle', 'Aggron'] com 230 de defesa base\n",
            "Os Pokémosn que têm a menor defesa base são: ['Chansey', 'Happiny'] com 5 de defesa base\n"
          ]
        }
      ]
    },
    {
      "cell_type": "code",
      "source": [
        "plt.figure(figsize=(5, 5))\n",
        "plt.hist(defesa, color='m')\n",
        "plt.ylabel('Frequência de Pokémons')\n",
        "plt.xlabel('Defesa Base')\n",
        "plt.title('Histograma de defesa base de Pokémons');"
      ],
      "metadata": {
        "colab": {
          "base_uri": "https://localhost:8080/",
          "height": 350
        },
        "id": "XwxIfzbjg64x",
        "outputId": "1faf37e1-3ab3-42c3-d0f9-67db9951ca78"
      },
      "execution_count": 44,
      "outputs": [
        {
          "output_type": "display_data",
          "data": {
            "text/plain": [
              "<Figure size 360x360 with 1 Axes>"
            ],
            "image/png": "[encoded data removed]"
          },
          "metadata": {
            "needs_background": "light"
          }
        }
      ]
    },
    {
      "cell_type": "code",
      "source": [
        "plt.figure(figsize=(5, 5))\n",
        "sns.violinplot(data=defesa, color='m')\n",
        "plt.ylabel('Defesa Base')\n",
        "plt.xlabel('Densidade de Pokémons')\n",
        "plt.title('Gráfico de Violino para defesa base de Pokémons');"
      ],
      "metadata": {
        "colab": {
          "base_uri": "https://localhost:8080/",
          "height": 350
        },
        "id": "apoU6ivFg98J",
        "outputId": "6a5660dd-496f-4660-c11f-7c561d703128"
      },
      "execution_count": 45,
      "outputs": [
        {
          "output_type": "display_data",
          "data": {
            "text/plain": [
              "<Figure size 360x360 with 1 Axes>"
            ],
            "image/png": "[encoded data removed]"
          },
          "metadata": {
            "needs_background": "light"
          }
        }
      ]
    },
    {
      "cell_type": "markdown",
      "source": [
        "## Análise do hp base dos Pokémons"
      ],
      "metadata": {
        "id": "wFfh2lsmjWRw"
      }
    },
    {
      "cell_type": "code",
      "source": [
        "hp=pokemon['hp']\n",
        "hp_max=hp[hp==hp.max()]\n",
        "indmax=[]\n",
        "for i in range(len(hp_max)):\n",
        "  indmax.append(hp_max.index[i])\n",
        "nomes_max_hp=[]\n",
        "for i in indmax:\n",
        "  nomes_max_hp.append(nomes[i])\n",
        "\n",
        "  hp_min=hp[hp==hp.min()]\n",
        "indmin=[]\n",
        "for i in range(len(hp_min)):\n",
        "  indmin.append(hp_min.index[i])\n",
        "nomes_min_hp=[]\n",
        "for i in indmin:\n",
        "  nomes_min_hp.append(nomes[i])\n",
        "\n",
        "  \n",
        "print('Os Pokémons que têm o maior hp base são: {} com {} de hp base'.format(nomes_max_hp,hp.max()))\n",
        "print('Os Pokémons que têm o menor hp base são: {} com {} de hp base'.format(nomes_min_hp,hp.min()))"
      ],
      "metadata": {
        "colab": {
          "base_uri": "https://localhost:8080/"
        },
        "id": "IKaVbVajjb8Z",
        "outputId": "388caaba-a0a2-403d-d42f-d88a0c2fb5ec"
      },
      "execution_count": 46,
      "outputs": [
        {
          "output_type": "stream",
          "name": "stdout",
          "text": [
            "Os Pokémons que têm o maior hp base são: ['Blissey'] com 255 de hp base\n",
            "Os Pokémons que têm o menor hp base são: ['Shedinja'] com 1 de hp base\n"
          ]
        }
      ]
    },
    {
      "cell_type": "code",
      "source": [
        "plt.figure(figsize=(5, 5))\n",
        "plt.hist(hp, color='m')\n",
        "plt.ylabel('Frequência de Pokémons')\n",
        "plt.xlabel('Hp Base')\n",
        "plt.title('Histograma de hp base de Pokémons');"
      ],
      "metadata": {
        "colab": {
          "base_uri": "https://localhost:8080/",
          "height": 350
        },
        "id": "ejUcYFbRk8Xp",
        "outputId": "4d0b012a-4095-4dfc-d2a1-602a7953c03f"
      },
      "execution_count": 47,
      "outputs": [
        {
          "output_type": "display_data",
          "data": {
            "text/plain": [
              "<Figure size 360x360 with 1 Axes>"
            ],
            "image/png": "[encoded data removed]"
          },
          "metadata": {
            "needs_background": "light"
          }
        }
      ]
    },
    {
      "cell_type": "code",
      "source": [
        "plt.figure(figsize=(5, 5))\n",
        "sns.violinplot(data=hp, color='m')\n",
        "plt.ylabel('Hp Base')\n",
        "plt.xlabel('Densidade de Pokémons')\n",
        "plt.title('Gráfico de Violino para hp base de Pokémons');"
      ],
      "metadata": {
        "colab": {
          "base_uri": "https://localhost:8080/",
          "height": 350
        },
        "id": "cifdDQw9k805",
        "outputId": "fdf11937-018d-4cd3-d454-e2e618f74612"
      },
      "execution_count": 48,
      "outputs": [
        {
          "output_type": "display_data",
          "data": {
            "text/plain": [
              "<Figure size 360x360 with 1 Axes>"
            ],
            "image/png": "[encoded data removed]"
          },
          "metadata": {
            "needs_background": "light"
          }
        }
      ]
    }
  ]
}